{
  "nbformat": 4,
  "nbformat_minor": 0,
  "metadata": {
    "colab": {
      "name": "CS682_Project.ipynb",
      "provenance": []
    },
    "kernelspec": {
      "name": "python3",
      "display_name": "Python 3"
    },
    "language_info": {
      "name": "python"
    }
  },
  "cells": [
    {
      "cell_type": "code",
      "execution_count": 1,
      "metadata": {
        "id": "fDL7fOmBYNu5"
      },
      "outputs": [],
      "source": [
        "import requests\n",
        "from geopy.geocoders import Nominatim\n",
        "import re"
      ]
    },
    {
      "cell_type": "code",
      "source": [
        "StrLocation = input(\"Enter Location:\")\n",
        "if re.search('[a-zA-Z]', StrLocation):\n",
        "  geolocator = Nominatim(user_agent='myapplication')\n",
        "  location = geolocator.geocode(StrLocation)\n",
        "  latValue = location.latitude\n",
        "  lonValue = location.longitude\n",
        "else:\n",
        "  latValue = StrLocation.split(',')[0]\n",
        "  lonValue = StrLocation.split(',')[1]\n"
      ],
      "metadata": {
        "colab": {
          "base_uri": "https://localhost:8080/"
        },
        "id": "myEhk3RjYiEt",
        "outputId": "1d139f74-86dc-427b-c6e1-0859462399c8"
      },
      "execution_count": 9,
      "outputs": [
        {
          "name": "stdout",
          "output_type": "stream",
          "text": [
            "Enter Location:chennai,in\n"
          ]
        }
      ]
    },
    {
      "cell_type": "code",
      "source": [
        "r = requests.get('https://power.larc.nasa.gov/api/temporal/hourly/point?start=20220308&end=20220309&latitude='+str(latValue)+'&longitude='+str(lonValue)+'&community=ag&parameters=TS%2CALLSKY_SFC_UVA&format=json&header=true&time-standard=lst')"
      ],
      "metadata": {
        "id": "AL4DqeAeYiXU"
      },
      "execution_count": 13,
      "outputs": []
    },
    {
      "cell_type": "code",
      "source": [
        "r.json()"
      ],
      "metadata": {
        "colab": {
          "base_uri": "https://localhost:8080/"
        },
        "id": "xy9U8sehYij5",
        "outputId": "83561740-87c0-4a96-a3a7-029105b28a3c"
      },
      "execution_count": 11,
      "outputs": [
        {
          "output_type": "execute_result",
          "data": {
            "text/plain": [
              "{'geometry': {'coordinates': [80.270186, 13.0836939, 48.95], 'type': 'Point'},\n",
              " 'header': {'api': {'name': 'POWER Hourly API', 'version': 'v2.2.20'},\n",
              "  'end': '20220309',\n",
              "  'fill_value': -999.0,\n",
              "  'start': '20220308',\n",
              "  'title': 'NASA/POWER CERES/MERRA2 Native Resolution Hourly Data'},\n",
              " 'messages': [],\n",
              " 'parameters': {'ALLSKY_SFC_UVA': {'longname': 'All Sky Surface UVA Irradiance',\n",
              "   'units': 'W/m^2'},\n",
              "  'TS': {'longname': 'Earth Skin Temperature', 'units': 'C'}},\n",
              " 'properties': {'parameter': {'ALLSKY_SFC_UVA': {'2022030800': -999.0,\n",
              "    '2022030801': -999.0,\n",
              "    '2022030802': -999.0,\n",
              "    '2022030803': -999.0,\n",
              "    '2022030804': -999.0,\n",
              "    '2022030805': -999.0,\n",
              "    '2022030806': -999.0,\n",
              "    '2022030807': -999.0,\n",
              "    '2022030808': -999.0,\n",
              "    '2022030809': -999.0,\n",
              "    '2022030810': -999.0,\n",
              "    '2022030811': -999.0,\n",
              "    '2022030812': -999.0,\n",
              "    '2022030813': -999.0,\n",
              "    '2022030814': -999.0,\n",
              "    '2022030815': -999.0,\n",
              "    '2022030816': -999.0,\n",
              "    '2022030817': -999.0,\n",
              "    '2022030818': -999.0,\n",
              "    '2022030819': -999.0,\n",
              "    '2022030820': -999.0,\n",
              "    '2022030821': -999.0,\n",
              "    '2022030822': -999.0,\n",
              "    '2022030823': -999.0,\n",
              "    '2022030900': -999.0,\n",
              "    '2022030901': -999.0,\n",
              "    '2022030902': -999.0,\n",
              "    '2022030903': -999.0,\n",
              "    '2022030904': -999.0,\n",
              "    '2022030905': -999.0,\n",
              "    '2022030906': -999.0,\n",
              "    '2022030907': -999.0,\n",
              "    '2022030908': -999.0,\n",
              "    '2022030909': -999.0,\n",
              "    '2022030910': -999.0,\n",
              "    '2022030911': -999.0,\n",
              "    '2022030912': -999.0,\n",
              "    '2022030913': -999.0,\n",
              "    '2022030914': -999.0,\n",
              "    '2022030915': -999.0,\n",
              "    '2022030916': -999.0,\n",
              "    '2022030917': -999.0,\n",
              "    '2022030918': -999.0,\n",
              "    '2022030919': -999.0,\n",
              "    '2022030920': -999.0,\n",
              "    '2022030921': -999.0,\n",
              "    '2022030922': -999.0,\n",
              "    '2022030923': -999.0},\n",
              "   'TS': {'2022030800': -999.0,\n",
              "    '2022030801': -999.0,\n",
              "    '2022030802': -999.0,\n",
              "    '2022030803': -999.0,\n",
              "    '2022030804': -999.0,\n",
              "    '2022030805': -999.0,\n",
              "    '2022030806': -999.0,\n",
              "    '2022030807': -999.0,\n",
              "    '2022030808': -999.0,\n",
              "    '2022030809': -999.0,\n",
              "    '2022030810': -999.0,\n",
              "    '2022030811': -999.0,\n",
              "    '2022030812': -999.0,\n",
              "    '2022030813': -999.0,\n",
              "    '2022030814': -999.0,\n",
              "    '2022030815': -999.0,\n",
              "    '2022030816': -999.0,\n",
              "    '2022030817': -999.0,\n",
              "    '2022030818': -999.0,\n",
              "    '2022030819': -999.0,\n",
              "    '2022030820': -999.0,\n",
              "    '2022030821': -999.0,\n",
              "    '2022030822': -999.0,\n",
              "    '2022030823': -999.0,\n",
              "    '2022030900': -999.0,\n",
              "    '2022030901': -999.0,\n",
              "    '2022030902': -999.0,\n",
              "    '2022030903': -999.0,\n",
              "    '2022030904': -999.0,\n",
              "    '2022030905': -999.0,\n",
              "    '2022030906': -999.0,\n",
              "    '2022030907': -999.0,\n",
              "    '2022030908': -999.0,\n",
              "    '2022030909': -999.0,\n",
              "    '2022030910': -999.0,\n",
              "    '2022030911': -999.0,\n",
              "    '2022030912': -999.0,\n",
              "    '2022030913': -999.0,\n",
              "    '2022030914': -999.0,\n",
              "    '2022030915': -999.0,\n",
              "    '2022030916': -999.0,\n",
              "    '2022030917': -999.0,\n",
              "    '2022030918': -999.0,\n",
              "    '2022030919': -999.0,\n",
              "    '2022030920': -999.0,\n",
              "    '2022030921': -999.0,\n",
              "    '2022030922': -999.0,\n",
              "    '2022030923': -999.0}}},\n",
              " 'times': {'data': 1.611, 'process': 0.15},\n",
              " 'type': 'Feature'}"
            ]
          },
          "metadata": {},
          "execution_count": 11
        }
      ]
    }
  ]
}