{
  "nbformat": 4,
  "nbformat_minor": 0,
  "metadata": {
    "colab": {
      "name": "CS682_Project.ipynb",
      "provenance": [],
      "collapsed_sections": []
    },
    "kernelspec": {
      "name": "python3",
      "display_name": "Python 3"
    },
    "language_info": {
      "name": "python"
    }
  },
  "cells": [
    {
      "cell_type": "code",
      "execution_count": 1,
      "metadata": {
        "colab": {
          "base_uri": "https://localhost:8080/"
        },
        "id": "hsn-CBfHp8ln",
        "outputId": "9cc13fc4-5f59-4823-a9de-39c07134938e"
      },
      "outputs": [
        {
          "output_type": "stream",
          "name": "stdout",
          "text": [
            "Collecting pycountry\n",
            "  Downloading pycountry-22.3.5.tar.gz (10.1 MB)\n",
            "\u001b[K     |████████████████████████████████| 10.1 MB 7.4 MB/s \n",
            "\u001b[?25h  Installing build dependencies ... \u001b[?25l\u001b[?25hdone\n",
            "  Getting requirements to build wheel ... \u001b[?25l\u001b[?25hdone\n",
            "    Preparing wheel metadata ... \u001b[?25l\u001b[?25hdone\n",
            "Requirement already satisfied: setuptools in /usr/local/lib/python3.7/dist-packages (from pycountry) (57.4.0)\n",
            "Building wheels for collected packages: pycountry\n",
            "  Building wheel for pycountry (PEP 517) ... \u001b[?25l\u001b[?25hdone\n",
            "  Created wheel for pycountry: filename=pycountry-22.3.5-py2.py3-none-any.whl size=10681845 sha256=6e4b57b6b6b01431b75665d7a12f598a41623a6efc6c89c255ea73ffc41a4e2b\n",
            "  Stored in directory: /root/.cache/pip/wheels/0e/06/e8/7ee176e95ea9a8a8c3b3afcb1869f20adbd42413d4611c6eb4\n",
            "Successfully built pycountry\n",
            "Installing collected packages: pycountry\n",
            "Successfully installed pycountry-22.3.5\n"
          ]
        }
      ],
      "source": [
        "!pip install pycountry"
      ]
    },
    {
      "cell_type": "code",
      "source": [
        "import requests\n",
        "from geopy.geocoders import Nominatim\n",
        "import re\n",
        "import pandas as pd\n",
        "from google.colab import auth\n",
        "auth.authenticate_user()\n",
        "import gspread\n",
        "from google.auth import default\n",
        "import json\n",
        "import plotly.express as px\n",
        "import pycountry"
      ],
      "metadata": {
        "id": "lge4p1zLqQ7u"
      },
      "execution_count": 2,
      "outputs": []
    },
    {
      "cell_type": "code",
      "source": [
        "#Dictionary to map US states to State Codes\n",
        "us_state_to_abbrev = {\n",
        "\"Alabama\": \"AL\",\n",
        "\"Alaska\": \"AK\",\n",
        "\"Arizona\": \"AZ\",\n",
        "\"Arkansas\": \"AR\",\n",
        "\"California\": \"CA\",\n",
        "\"Colorado\": \"CO\",\n",
        "\"Connecticut\": \"CT\",\n",
        "\"Delaware\": \"DE\",\n",
        "\"Florida\": \"FL\",\n",
        "\"Georgia\": \"GA\",\n",
        "\"Hawaii\": \"HI\",\n",
        "\"Idaho\": \"ID\",\n",
        "\"Illinois\": \"IL\",\n",
        "\"Indiana\": \"IN\",\n",
        "\"Iowa\": \"IA\",\n",
        "\"Kansas\": \"KS\",\n",
        "\"Kentucky\": \"KY\",\n",
        "\"Louisiana\": \"LA\",\n",
        "\"Maine\": \"ME\",\n",
        "\"Maryland\": \"MD\",\n",
        "\"Massachusetts\": \"MA\",\n",
        "\"Michigan\": \"MI\",\n",
        "\"Minnesota\": \"MN\",\n",
        "\"Mississippi\": \"MS\",\n",
        "\"Missouri\": \"MO\",\n",
        "\"Montana\": \"MT\",\n",
        "\"Nebraska\": \"NE\",\n",
        "\"Nevada\": \"NV\",\n",
        "\"New Hampshire\": \"NH\",\n",
        "\"New Jersey\": \"NJ\",\n",
        "\"New Mexico\": \"NM\",\n",
        "\"New York\": \"NY\",\n",
        "\"North Carolina\": \"NC\",\n",
        "\"North Dakota\": \"ND\",\n",
        "\"Ohio\": \"OH\",\n",
        "\"Oklahoma\": \"OK\",\n",
        "\"Oregon\": \"OR\",\n",
        "\"Pennsylvania\": \"PA\",\n",
        "\"Rhode Island\": \"RI\",\n",
        "\"South Carolina\": \"SC\",\n",
        "\"South Dakota\": \"SD\",\n",
        "\"Tennessee\": \"TN\",\n",
        "\"Texas\": \"TX\",\n",
        "\"Utah\": \"UT\",\n",
        "\"Vermont\": \"VT\",\n",
        "\"Virginia\": \"VA\",\n",
        "\"Washington\": \"WA\",\n",
        "\"West Virginia\": \"WV\",\n",
        "\"Wisconsin\": \"WI\",\n",
        "\"Wyoming\": \"WY\",\n",
        "\"District of Columbia\": \"DC\",\n",
        "\"American Samoa\": \"AS\",\n",
        "\"Guam\": \"GU\",\n",
        "\"Northern Mariana Islands\": \"MP\",\n",
        "\"Puerto Rico\": \"PR\",\n",
        "\"United States Minor Outlying Islands\": \"UM\",\n",
        "\"U.S. Virgin Islands\": \"VI\",\n",
        "}"
      ],
      "metadata": {
        "id": "-Z--zg2VqQ4W"
      },
      "execution_count": 3,
      "outputs": []
    },
    {
      "cell_type": "code",
      "source": [
        "#Authorize access to google sheets and fetch the lat-lon file into a dataframe\n",
        "creds, _ = default()\n",
        "gc = gspread.authorize(creds)\n",
        "latlong = gc.open('lat-lon').sheet1\n",
        "rows = latlong.get_all_values()\n",
        "dfll = pd.DataFrame.from_records(rows)\n",
        "\n",
        "# Convert first column to header\n",
        "dfll.columns = dfll.iloc[0]\n",
        "dfll = dfll[1:]\n",
        "\n",
        "#Add two new columns \"City Name\" and \"State Code/Country Name\"\n",
        "dfll[\"City Name\"] = pd.NaT\n",
        "dfll[\"State Code/Country Name\"] = pd.NaT\n",
        "geolocator = Nominatim(user_agent='myapplication')\n",
        "for index, row in dfll.iterrows():\n",
        "  #Get city and state code (for US cities)/ country name using latitude and longitude\n",
        "  address = geolocator.reverse(row[0]+\",\"+row[1]).raw['address']\n",
        "  dfll.loc[index,\"City Name\"]=address.get('city', '')\n",
        "  if address.get('country', '')== \"United States\":\n",
        "    dfll.loc[index,\"State Code/Country Name\"]= us_state_to_abbrev.get(address.get('state', ''))\n",
        "  else:\n",
        "    dfll.loc[index,\"State Code/Country Name\"]= address.get('country', '')\n",
        "\n",
        "#Drop NaT values and update the lat-lon file\n",
        "dfll = dfll.dropna()\n",
        "latlong.update([dfll.columns.values.tolist()] + dfll.values.tolist())"
      ],
      "metadata": {
        "colab": {
          "base_uri": "https://localhost:8080/"
        },
        "id": "JdvuSLOWqQ0t",
        "outputId": "246a6fdb-fbbf-4b2d-d711-a8273349f220"
      },
      "execution_count": 4,
      "outputs": [
        {
          "output_type": "execute_result",
          "data": {
            "text/plain": [
              "{'spreadsheetId': '1bHX7lS1suDo4TLH3x75JdphNZoDy36FJtIOEaP8qfjE',\n",
              " 'updatedCells': 12,\n",
              " 'updatedColumns': 4,\n",
              " 'updatedRange': 'Sheet1!A1:D3',\n",
              " 'updatedRows': 3}"
            ]
          },
          "metadata": {},
          "execution_count": 4
        }
      ]
    },
    {
      "cell_type": "code",
      "source": [
        "#fetch the city-name file into a dataframe\n",
        "cityname = gc.open('input').sheet1\n",
        "rows = cityname.get_all_values()\n",
        "dfcity = pd.DataFrame.from_records(rows)\n",
        "\n",
        "# Convert first column to header\n",
        "dfcity.columns = dfcity.iloc[0]\n",
        "dfcity = dfcity[1:]\n",
        "\n",
        "#Add two new columns \"Latitude\" and \"Longitude\"\n",
        "dfcity[\"Latitude\"] = pd.NaT\n",
        "dfcity[\"Longitude\"] = pd.NaT\n",
        "geolocator = Nominatim(user_agent='myapplication')\n",
        "for index, row in dfcity.iterrows():\n",
        "  #Get latitude and longitude using city and state code (for US cities)/ country name \n",
        "  location = geolocator.geocode(row[0]+\",\"+row[1],timeout=1000)\n",
        "  if not location == None:\n",
        "    dfcity.loc[index,\"Latitude\"]=location.latitude\n",
        "    dfcity.loc[index,\"Longitude\"]=location.longitude\n",
        "\n",
        "#Drop NaT values and update the lat-lon file\n",
        "dfcity=dfcity.dropna()\n",
        "cityname.update([dfcity.columns.values.tolist()] + dfcity.values.tolist())"
      ],
      "metadata": {
        "colab": {
          "base_uri": "https://localhost:8080/"
        },
        "id": "PLAI_gUBqQxC",
        "outputId": "9e8dd3e0-5ea2-4f76-e8ad-390d8e3471e3"
      },
      "execution_count": 5,
      "outputs": [
        {
          "output_type": "execute_result",
          "data": {
            "text/plain": [
              "{'spreadsheetId': '1ZPmR0VWdGNOGtdXAXBS4jq_ohnFOV8bUfmLytBcpajk',\n",
              " 'updatedCells': 448,\n",
              " 'updatedColumns': 4,\n",
              " 'updatedRange': 'Sheet1!A1:D112',\n",
              " 'updatedRows': 112}"
            ]
          },
          "metadata": {},
          "execution_count": 5
        }
      ]
    },
    {
      "cell_type": "code",
      "source": [
        "#Concatenate lat-lon and city-name dataframes without duplicates\n",
        "df = pd.concat([dfcity,dfll], axis = 0).drop_duplicates().reset_index(drop=True)"
      ],
      "metadata": {
        "id": "l3eNBiM5qQtG"
      },
      "execution_count": 6,
      "outputs": []
    },
    {
      "cell_type": "code",
      "source": [
        "#Add four new columns \"Irradiance\", \"Avg temp\", \"Max temp\", and \"Min temp\"\n",
        "df[\"Irradiance\"] = pd.NaT\n",
        "df[\"Avg temp\"]= pd.NaT\n",
        "df[\"Max temp\"]= pd.NaT\n",
        "df[\"Min temp\"]= pd.NaT\n",
        "for index,row in df.iterrows():\n",
        "  #Get irradiance and temperature for all the latitude and longitude values in the dataframe\n",
        "  json_data = json.loads(requests.get('https://power.larc.nasa.gov/api/temporal/monthly/point?start=2016&end=2020&latitude='+str(row[2])+'&longitude='+str(row[3])+'&community=re&parameters=ALLSKY_SFC_SW_DWN%2CT2M%2CT2M_MAX%2CT2M_MIN&format=json&header=true').text)\n",
        "  irradiance = json_data['properties']['parameter']['ALLSKY_SFC_SW_DWN']\n",
        "  AvgTemp = json_data['properties']['parameter']['T2M']\n",
        "  maxTemp = json_data['properties']['parameter']['T2M_MAX']\n",
        "  minTemp = json_data['properties']['parameter']['T2M_MIN']\n",
        "  df.loc[index,\"Irradiance\"] = (irradiance['201613']+irradiance['201713']+irradiance['201813']+irradiance['201913']+irradiance['202013'])/5\n",
        "  df.loc[index,\"Avg temp\"] = (AvgTemp['201613']+AvgTemp['201713']+AvgTemp['201813']+AvgTemp['201913']+AvgTemp['202013'])/5\n",
        "  df.loc[index,\"Max temp\"] = (maxTemp['201613']+maxTemp['201713']+maxTemp['201813']+maxTemp['201913']+maxTemp['202013'])/5\n",
        "  df.loc[index,\"Min temp\"] = (minTemp['201613']+minTemp['201713']+minTemp['201813']+minTemp['201913']+minTemp['202013'])/5\n",
        "\n",
        "#delete columns 'Latitude' and 'Longitude'\n",
        "df = df.drop(columns=['Latitude','Longitude'])"
      ],
      "metadata": {
        "id": "vkjzXv5kqQqI"
      },
      "execution_count": 7,
      "outputs": []
    },
    {
      "cell_type": "code",
      "source": [
        "import datetime\n",
        "import time\n",
        "current_time=datetime.datetime.now()\n",
        "print(current_time)\n",
        "file_time = current_time.strftime(\"%y%m%d-%H%M%S\")\n",
        "print(file_time)\n",
        "\n",
        "##fetch the irradiance-data file and upload the dataframe into the file\n",
        "irradiancedata = gc.open('irradiance-temp').sheet1\n",
        "df=df.dropna()\n",
        "filename=\"irradiance-temp-\"+file_time\n",
        "print(filename)\n",
        "irradiancedata1 = gc.create(filename).sheet1\n",
        "irradiancedata1.update([df.columns.values.tolist()] + df.values.tolist())"
      ],
      "metadata": {
        "colab": {
          "base_uri": "https://localhost:8080/"
        },
        "id": "tfS9xNzmqQkX",
        "outputId": "c5c65f40-3936-4236-a110-53175c323975"
      },
      "execution_count": 29,
      "outputs": [
        {
          "output_type": "stream",
          "name": "stdout",
          "text": [
            "2022-04-09 15:48:57.930647\n",
            "220409-154857\n",
            "irradiance-temp-220409-154857\n"
          ]
        },
        {
          "output_type": "execute_result",
          "data": {
            "text/plain": [
              "{'spreadsheetId': '1FatTLIvYffuFQhIUdo91k_q-B4RpydKmYZ7A-QlNgSE',\n",
              " 'updatedCells': 672,\n",
              " 'updatedColumns': 6,\n",
              " 'updatedRange': 'Sheet1!A1:F112',\n",
              " 'updatedRows': 112}"
            ]
          },
          "metadata": {},
          "execution_count": 29
        }
      ]
    },
    {
      "cell_type": "code",
      "source": [
        ""
      ],
      "metadata": {
        "id": "CNPkKMwMqQWe"
      },
      "execution_count": null,
      "outputs": []
    }
  ]
}