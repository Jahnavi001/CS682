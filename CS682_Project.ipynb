{
  "nbformat": 4,
  "nbformat_minor": 0,
  "metadata": {
    "colab": {
      "name": "CS682_Project.ipynb",
      "provenance": [],
      "collapsed_sections": []
    },
    "kernelspec": {
      "name": "python3",
      "display_name": "Python 3"
    },
    "language_info": {
      "name": "python"
    }
  },
  "cells": [
    {
      "cell_type": "code",
      "execution_count": 1,
      "metadata": {
        "id": "2B_mDVIQJia0"
      },
      "outputs": [],
      "source": [
        "import requests\n",
        "import csv\n",
        "import json\n",
        "from geopy.geocoders import Nominatim\n",
        "import re\n",
        "import pandas as pd\n",
        "from google.colab import drive\n",
        "import matplotlib.pyplot as plt\n",
        "from google.colab import auth\n",
        "from pydrive.auth import GoogleAuth\n",
        "from pydrive.drive import GoogleDrive\n",
        "from geopy.exc import GeocoderTimedOut\n"
      ]
    },
    {
      "cell_type": "code",
      "source": [
        "import gspread\n",
        "from oauth2client.client import GoogleCredentials\n",
        "auth.authenticate_user()\n",
        "import gspread\n",
        "from google.auth import default\n",
        "creds, _ = default()\n",
        "\n",
        "gc = gspread.authorize(creds)"
      ],
      "metadata": {
        "id": "Fzba4t_cPEp_"
      },
      "execution_count": 2,
      "outputs": []
    },
    {
      "cell_type": "code",
      "source": [
        "ws = gc.open('lat-lon')\n",
        "rows = ws.sheet1.get_all_values()\n",
        "\n",
        "geolocator = Nominatim(user_agent=\"geoapiExercises\")\n",
        "filename = \"lat_lon_location.csv\"\n",
        "csvfile=open(filename, 'w')\n",
        "\n",
        "wr=csv.writer(csvfile,dialect='excel')\n",
        "\n",
        "j=[]\n",
        "j1=[]\n",
        "j2=[]\n",
        "\n",
        "rows1=[]\n",
        "for i in rows:\n",
        "    latValue = i[0]\n",
        "    lonValue = i[1]\n",
        "    location = geolocator.reverse(latValue+\",\"+lonValue)\n",
        "    j.append(i[0])\n",
        "    j1.append(i[1])\n",
        "    j2.append(location)\n",
        "\n",
        " \n",
        "  \n",
        "   \n",
        "for i in range(len(j)):\n",
        "  \n",
        "  rows1.append([j[i],j1[i],j2[i]])\n",
        "  \n",
        "wr.writerows(rows1)   \n",
        "csvfile.close()"
      ],
      "metadata": {
        "colab": {
          "base_uri": "https://localhost:8080/"
        },
        "id": "YdCpWKSBzF5z",
        "outputId": "48a8e4b1-ae6c-4f73-fc22-8bf59b56276b"
      },
      "execution_count": 5,
      "outputs": [
        {
          "output_type": "stream",
          "name": "stdout",
          "text": [
            "[['42.3609603', '-71.05796656'], ['34.05391803', '-118.2426533']]\n"
          ]
        }
      ]
    },
    {
      "cell_type": "code",
      "source": [
        "ws = gc.open('CS682_Datacenter')\n",
        "rows = ws.sheet1.get_all_values()\n",
        "\n",
        "filename = \"city_data.csv\"\n",
        "csvfile=open(filename, 'w')\n",
        "#headerList = ['City name', 'State code (or country name)', 'Irradiance','Avg temp','Max temp','Min temp']\n",
        "#wr=csv.writer(csvfile,dialect='excel',header=headerList, index=False)\n",
        "wr=csv.writer(csvfile,dialect='excel')\n",
        "\n",
        "j=[]\n",
        "j1=[]\n",
        "j2=[]\n",
        "j3=[]\n",
        "rows1=[]\n",
        "for i in rows:\n",
        "  if re.search('[a-zA-Z]', i[0]):\n",
        "    city = i[0]\n",
        "    geolocator = Nominatim(user_agent='myapplication')\n",
        "    location = geolocator.geocode(city,timeout=100)\n",
        "    latValue = location.latitude\n",
        "    lonValue = location.longitude\n",
        "  else:\n",
        "    latValue = city.split(',')[0]\n",
        "    lonValue = city.split(',')[10]\n",
        "  r = requests.get('https://power.larc.nasa.gov/api/temporal/monthly/point?parameters=ALLSKY_SFC_SW_DIFF,T2M,T2M_MAX,T2M_MIN&community=SB&longitude='+str(lonValue)+'&latitude='+str(latValue)+'&format=JSON&start=2016&end=2020')\n",
        "  json_data = json.loads(r.text)\n",
        "  #print(json_data)\n",
        "  #df=pd.DataFrame(json_data)\n",
        "  #df=pd.DataFrame(json_data['properties']['parameter']['T2M']['201613'])\n",
        "\n",
        "  #df=pd.json_normalize(json_data, record_path =['properties']['parameter']['T2M']['201613'])\n",
        "#data = json_data['properties']['parameter']\n",
        "#for x in data:\n",
        "#\tprint(x['ALLSKY_SFC_SW_DIFF']['201613'],x['T2M']['201613'], x['T2M_MAX']['201613'], x['T2M_MIN']['201613'])\n",
        "  #print(json_data)\n",
        "  j.append(json_data['properties']['parameter']['ALLSKY_SFC_SW_DIFF']['201613'])\n",
        "  j1.append(json_data['properties']['parameter']['T2M']['201613'])\n",
        "  j2.append(json_data['properties']['parameter']['T2M_MAX']['201613'])\n",
        "  j3.append(json_data['properties']['parameter']['T2M_MIN']['201613'])\n",
        " \n",
        "  \n",
        "   \n",
        "for i in range(len(j)):\n",
        "  #wr.writerow([j[i]])\n",
        "  rows1.append([rows[i][0],j[i],j1[i],j2[i],j3[i]])\n",
        "  \n",
        "#for i in range(len(j1)):\n",
        "  #wr.writerow([j1[i]])\n",
        "#  rows1.append([j1[i]])\n",
        "wr.writerows(rows1)   \n",
        "csvfile.close()\n",
        "\n",
        "\n",
        "\n",
        "  "
      ],
      "metadata": {
        "colab": {
          "base_uri": "https://localhost:8080/"
        },
        "id": "kGLl6IXFKBEU",
        "outputId": "dbfbfce7-164b-408f-e531-f237dd09bc05"
      },
      "execution_count": null,
      "outputs": [
        {
          "output_type": "stream",
          "name": "stdout",
          "text": [
            "[['Anchorage, AK'], ['International Falls, Minnesota'], ['Waltham, MA'], ['Chicago, IL'], ['Dallas, TX'], ['El Segundo, CA'], ['Oakland, CA'], ['Phoenix, AL'], ['Portland, OR'], ['Prineville, OR'], ['Mayes County, Oklahoma'], ['Santa Clara, CA'], ['Seattle, WA'], ['Austin, TX'], ['Houston, TX'], ['Potrero, CA'], ['Atlanta, GA'], ['New York, NY'], ['Bridgeport, CT'], ['Edison, NJ'], ['Clifton, NJ'], ['Piscataway, NJ'], ['Weehawken, NJ'], ['Charlotte, NC'], ['Maiden, NC'], ['Miami, FL'], ['New York, NY'], ['Reston, VA'], ['Dallas, TX'], ['San Jose, ca'], ['Bluffdale, UT'], ['Salt Lake City, UT'], ['Mesa, Az'], ['Prineville, Oregon'], ['Kansas City, Kansas'], ['Los Luna, NM'], ['Altoona, IA'], ['Reno, Nevada'], ['Kuna, ID'], ['Ashburn, VA'], ['Altoona, Iowa'], ['Council Bluffs, Iowa'], ['Dalles, OR'], ['Quincy, WA'], ['Henrico, VA'], ['Huntsville, AL'], ['Forest City, NC'], ['New Albany, OH'], ['Gallatin, TN'], ['Maiden, NC'], ['Toronto, Canada'], ['Calgary, Canada'], ['Montreal, Canada'], ['Vancouver, Canada'], ['Winnipeg, Canada'], ['Ottawa, Canada'], ['Kamloops, Canada'], ['Singapore, Singapore'], ['Karnataka, India'], ['Mumbai, India'], ['Bengaluru, India'], ['Taipei Taiwan'], ['Jakarta, Indonesia'], ['Bekasi, Indonesia'], ['Seoul, South Korea'], ['Nagano, Japan'], ['Aomori, Japan'], ['Sapporo, Japan'], ['Kuala Lumpur, Malaysia'], ['Cyberjaya, Malaysia'], ['Ulaanbaatar, Mongolian State'], ['Astana, Qazaqstan'], ['Reykjavik, Iceland'], ['Tallinn, Estonia'], ['Odense, Denmark'], ['Warsaw, Poland'], ['Lulea, Sweden'], ['Hamina, Finland'], ['Kajana, Finland'], ['Skien, Norway'], ['Ballangen, Norway'], ['Oslo, Norway'], ['Middenmeer, Netherlands'], ['St. Ghislain, Belgium'], ['Dublin, Ireland'], ['Newport, UK'], ['Cardiff, UK'], ['Frankfurt, Germany'], ['Zurich, Switzerland'], ['Risomar, Cyprus'], ['Sydney, Australia'], ['Perth, Australia'], ['Istanbul, Turkey'], ['Dubai, UAE'], ['Abu Dhabi, UAE'], ['Muscat, Oman'], ['Manama, Bahrain'], ['Sao Paulo, Brazil'], ['Rio de Janeiro, Brazil'], ['Bogota, Columbia'], ['Mexico City, Mexico'], ['Queretaro, Mexico'], ['Monterrey, Mexico'], ['Bahia Blanca, Argentina'], ['Quilicura, Chille'], ['Cairo, Egypt'], ['Tunis, Tunisia'], ['Cape Town, South Africa'], ['Johannesburg, South Africa'], ['Lagos, Nigeria'], ['Lagos, Nigeria']]\n"
          ]
        }
      ]
    },
    {
      "cell_type": "code",
      "source": [
        ""
      ],
      "metadata": {
        "id": "YNp73Kxc73t9"
      },
      "execution_count": null,
      "outputs": []
    }
  ]
}