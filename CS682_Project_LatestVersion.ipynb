{
  "nbformat": 4,
  "nbformat_minor": 0,
  "metadata": {
    "colab": {
      "name": "Untitled1.ipynb",
      "provenance": [],
      "collapsed_sections": []
    },
    "kernelspec": {
      "name": "python3",
      "display_name": "Python 3"
    },
    "language_info": {
      "name": "python"
    }
  },
  "cells": [
    {
      "cell_type": "code",
      "execution_count": 88,
      "metadata": {
        "colab": {
          "base_uri": "https://localhost:8080/"
        },
        "id": "G5btdBgOZgdE",
        "outputId": "dc3f28ec-589e-4712-b94d-5dbc6a803b1f"
      },
      "outputs": [
        {
          "output_type": "stream",
          "name": "stdout",
          "text": [
            "Requirement already satisfied: pycountry in /usr/local/lib/python3.7/dist-packages (22.3.5)\n",
            "Requirement already satisfied: setuptools in /usr/local/lib/python3.7/dist-packages (from pycountry) (57.4.0)\n"
          ]
        }
      ],
      "source": [
        "!pip install pycountry\n"
      ]
    },
    {
      "cell_type": "code",
      "source": [
        "import requests\n",
        "from geopy.geocoders import Nominatim\n",
        "import re\n",
        "import io\n",
        "import pandas as pd\n",
        "from google.colab import drive\n",
        "from google.colab import auth\n",
        "auth.authenticate_user()\n",
        "import gspread\n",
        "from google.auth import default\n",
        "import json\n",
        "import plotly.express as px\n",
        "import pycountry"
      ],
      "metadata": {
        "id": "_B8a77jDZjy5"
      },
      "execution_count": 89,
      "outputs": []
    },
    {
      "cell_type": "code",
      "source": [
        "#Dictionary to map US states to State Codes\n",
        "us_state_to_abbrev = {\n",
        "\"Alabama\": \"AL\",\n",
        "\"Alaska\": \"AK\",\n",
        "\"Arizona\": \"AZ\",\n",
        "\"Arkansas\": \"AR\",\n",
        "\"California\": \"CA\",\n",
        "\"Colorado\": \"CO\",\n",
        "\"Connecticut\": \"CT\",\n",
        "\"Delaware\": \"DE\",\n",
        "\"Florida\": \"FL\",\n",
        "\"Georgia\": \"GA\",\n",
        "\"Hawaii\": \"HI\",\n",
        "\"Idaho\": \"ID\",\n",
        "\"Illinois\": \"IL\",\n",
        "\"Indiana\": \"IN\",\n",
        "\"Iowa\": \"IA\",\n",
        "\"Kansas\": \"KS\",\n",
        "\"Kentucky\": \"KY\",\n",
        "\"Louisiana\": \"LA\",\n",
        "\"Maine\": \"ME\",\n",
        "\"Maryland\": \"MD\",\n",
        "\"Massachusetts\": \"MA\",\n",
        "\"Michigan\": \"MI\",\n",
        "\"Minnesota\": \"MN\",\n",
        "\"Mississippi\": \"MS\",\n",
        "\"Missouri\": \"MO\",\n",
        "\"Montana\": \"MT\",\n",
        "\"Nebraska\": \"NE\",\n",
        "\"Nevada\": \"NV\",\n",
        "\"New Hampshire\": \"NH\",\n",
        "\"New Jersey\": \"NJ\",\n",
        "\"New Mexico\": \"NM\",\n",
        "\"New York\": \"NY\",\n",
        "\"North Carolina\": \"NC\",\n",
        "\"North Dakota\": \"ND\",\n",
        "\"Ohio\": \"OH\",\n",
        "\"Oklahoma\": \"OK\",\n",
        "\"Oregon\": \"OR\",\n",
        "\"Pennsylvania\": \"PA\",\n",
        "\"Rhode Island\": \"RI\",\n",
        "\"South Carolina\": \"SC\",\n",
        "\"South Dakota\": \"SD\",\n",
        "\"Tennessee\": \"TN\",\n",
        "\"Texas\": \"TX\",\n",
        "\"Utah\": \"UT\",\n",
        "\"Vermont\": \"VT\",\n",
        "\"Virginia\": \"VA\",\n",
        "\"Washington\": \"WA\",\n",
        "\"West Virginia\": \"WV\",\n",
        "\"Wisconsin\": \"WI\",\n",
        "\"Wyoming\": \"WY\",\n",
        "\"District of Columbia\": \"DC\",\n",
        "\"American Samoa\": \"AS\",\n",
        "\"Guam\": \"GU\",\n",
        "\"Northern Mariana Islands\": \"MP\",\n",
        "\"Puerto Rico\": \"PR\",\n",
        "\"United States Minor Outlying Islands\": \"UM\",\n",
        "\"U.S. Virgin Islands\": \"VI\",\n",
        "}"
      ],
      "metadata": {
        "id": "5z1xtwR5Zju0"
      },
      "execution_count": 93,
      "outputs": []
    },
    {
      "cell_type": "code",
      "source": [
        "from google.colab import auth\n",
        "auth.authenticate_user()\n",
        "from googleapiclient.discovery import build\n",
        "drive_service = build('drive', 'v3')"
      ],
      "metadata": {
        "id": "TVVqv8fQadeD"
      },
      "execution_count": 94,
      "outputs": []
    },
    {
      "cell_type": "code",
      "source": [
        "from xlrd import open_workbook\n",
        "\n",
        "#Authorize access to google drive and fetch the lat-lon file into a dataframe\n",
        "drive.mount('/content/drive', force_remount=True)\n",
        "dfll = pd.read_excel('/content/drive/My Drive/ColabNotebooks/inputFolder/lat-lon.xlsx')\n",
        "\n",
        "#Add two new columns \"City Name\" and \"State Code/Country Name\"\n",
        "dfll[\"City Name\"] = pd.NaT\n",
        "dfll[\"State Code/Country Name\"] = pd.NaT\n",
        "geolocator = Nominatim(user_agent='myapplication')\n",
        "for index, row in dfll.iterrows():\n",
        "  #Get city and state code (for US cities)/ country name using latitude and longitude\n",
        "  address = geolocator.reverse(str(row[0])+\",\"+str(row[1])).raw['address']\n",
        "  dfll.loc[index,\"City Name\"]=address.get('city', '')\n",
        "  if address.get('country', '')== \"United States\":\n",
        "    dfll.loc[index,\"State Code/Country Name\"]= us_state_to_abbrev.get(address.get('state', ''))\n",
        "  else:\n",
        "    dfll.loc[index,\"State Code/Country Name\"]= address.get('country', '')\n",
        "\n",
        "#Drop NaT values and update the lat-lon file\n",
        "dfll = dfll.dropna()\n",
        "dfll.update([dfll.columns.values.tolist()] + dfll.values.tolist())\n",
        "dfll.to_excel('/content/drive/My Drive/ColabNotebooks/outputFolder/lat-lon.xlsx')\n",
        "\n",
        "from googleapiclient.http import MediaFileUpload\n",
        "\n",
        "media = MediaFileUpload('/content/drive/My Drive/ColabNotebooks/outputFolder/lat-lon.xlsx', \n",
        "                        mimetype='text/plain',\n",
        "                        resumable=True)\n",
        "created = drive_service.files().create(body=file_metadata,\n",
        "                                       media_body=media,\n",
        "                                       fields='id').execute()\n",
        "print('File ID: {}'.format(created.get('id')))"
      ],
      "metadata": {
        "colab": {
          "base_uri": "https://localhost:8080/"
        },
        "id": "ri3sIs9QZjsS",
        "outputId": "7b65cffe-4d08-4829-b06e-b1c2110c4973"
      },
      "execution_count": 96,
      "outputs": [
        {
          "output_type": "stream",
          "name": "stdout",
          "text": [
            "Mounted at /content/drive\n"
          ]
        },
        {
          "output_type": "stream",
          "name": "stderr",
          "text": [
            "Exception ignored in: <function MediaFileUpload.__del__ at 0x7f1b7942d3b0>\n",
            "Traceback (most recent call last):\n",
            "  File \"/usr/local/lib/python3.7/dist-packages/googleapiclient/http.py\", line 587, in __del__\n",
            "OSError: [Errno 107] Transport endpoint is not connected\n"
          ]
        },
        {
          "output_type": "stream",
          "name": "stdout",
          "text": [
            "File ID: 1ksmswf5wkhy6yAqfFMZszsHBksO5xnrr\n"
          ]
        }
      ]
    },
    {
      "cell_type": "code",
      "source": [
        ""
      ],
      "metadata": {
        "id": "GcEUimiGx3Zc"
      },
      "execution_count": null,
      "outputs": []
    },
    {
      "cell_type": "code",
      "source": [
        "#fetch the city-name file into a dataframe\n",
        "dfcity = pd.read_excel('/content/drive/My Drive/ColabNotebooks/inputFolder/input.xlsx')\n",
        "\n",
        "#Add two new columns \"Latitude\" and \"Longitude\"\n",
        "dfcity[\"Latitude\"] = pd.NaT\n",
        "dfcity[\"Longitude\"] = pd.NaT\n",
        "geolocator = Nominatim(user_agent='myapplication')\n",
        "for index, row in dfcity.iterrows():\n",
        "  #Get latitude and longitude using city and state code (for US cities)/ country name \n",
        "  location = geolocator.geocode(row[0]+\",\"+row[1],timeout=1000)\n",
        "  if not location == None:\n",
        "    dfcity.loc[index,\"Latitude\"]=location.latitude\n",
        "    dfcity.loc[index,\"Longitude\"]=location.longitude\n",
        "\n",
        "#Drop NaT values and update the lat-lon file\n",
        "dfcity=dfcity.dropna()\n",
        "dfcity.update([dfcity.columns.values.tolist()] + dfcity.values.tolist())\n",
        "\n",
        "\n",
        "\n"
      ],
      "metadata": {
        "id": "_Mno5dDbZjoG"
      },
      "execution_count": 69,
      "outputs": []
    },
    {
      "cell_type": "code",
      "source": [
        "#Concatenate lat-lon and city-name dataframes without duplicates\n",
        "df = pd.concat([dfcity,dfll], axis = 0).drop_duplicates().reset_index(drop=True)"
      ],
      "metadata": {
        "id": "nVHtabUiZjmk"
      },
      "execution_count": 70,
      "outputs": []
    },
    {
      "cell_type": "code",
      "source": [
        "#Add four new columns \"Irradiance\", \"Avg temp\", \"Max temp\", and \"Min temp\"\n",
        "df[\"Irradiance\"] = pd.NaT\n",
        "df[\"Avg temp\"]= pd.NaT\n",
        "df[\"Max temp\"]= pd.NaT\n",
        "df[\"Min temp\"]= pd.NaT\n",
        "for index,row in df.iterrows():\n",
        "  #Get irradiance and temperature for all the latitude and longitude values in the dataframe\n",
        "  json_data = json.loads(requests.get('https://power.larc.nasa.gov/api/temporal/monthly/point?start=2016&end=2020&latitude='+str(row[2])+'&longitude='+str(row[3])+'&community=re&parameters=ALLSKY_SFC_SW_DWN%2CT2M%2CT2M_MAX%2CT2M_MIN&format=json&header=true').text)\n",
        "  irradiance = json_data['properties']['parameter']['ALLSKY_SFC_SW_DWN']\n",
        "  AvgTemp = json_data['properties']['parameter']['T2M']\n",
        "  maxTemp = json_data['properties']['parameter']['T2M_MAX']\n",
        "  minTemp = json_data['properties']['parameter']['T2M_MIN']\n",
        "  df.loc[index,\"Irradiance\"] = (irradiance['201613']+irradiance['201713']+irradiance['201813']+irradiance['201913']+irradiance['202013'])/5\n",
        "  df.loc[index,\"Avg temp\"] = (AvgTemp['201613']+AvgTemp['201713']+AvgTemp['201813']+AvgTemp['201913']+AvgTemp['202013'])/5\n",
        "  df.loc[index,\"Max temp\"] = (maxTemp['201613']+maxTemp['201713']+maxTemp['201813']+maxTemp['201913']+maxTemp['202013'])/5\n",
        "  df.loc[index,\"Min temp\"] = (minTemp['201613']+minTemp['201713']+minTemp['201813']+minTemp['201913']+minTemp['202013'])/5"
      ],
      "metadata": {
        "id": "6ZQXqk_VZjic"
      },
      "execution_count": 71,
      "outputs": []
    },
    {
      "cell_type": "code",
      "source": [
        "import datetime\n",
        "import time\n",
        "current_time=datetime.datetime.now()\n",
        "\n",
        "file_time = current_time.strftime(\"%y%m%d-%H%M%S\")\n",
        "df=df.dropna()\n",
        "filename=\"irradiance-temp-\"+file_time\n",
        "df.to_excel('/content/drive/My Drive/ColabNotebooks/outputFolder/'+filename+'.xlsx')\n",
        "\n",
        "from googleapiclient.http import MediaFileUpload\n",
        "\n",
        "media = MediaFileUpload('/content/drive/My Drive/ColabNotebooks/outputFolder/'+filename+'.xlsx', \n",
        "                        mimetype='text/plain',\n",
        "                        resumable=True)\n",
        "created = drive_service.files().create(body=file_metadata,\n",
        "                                       media_body=media,\n",
        "                                       fields='id').execute()\n",
        "print('File ID: {}'.format(created.get('id')))"
      ],
      "metadata": {
        "colab": {
          "base_uri": "https://localhost:8080/"
        },
        "id": "45B9JnmrZjfU",
        "outputId": "96079ea9-e183-43fb-d94f-cc555750a170"
      },
      "execution_count": 73,
      "outputs": [
        {
          "output_type": "stream",
          "name": "stdout",
          "text": [
            "2022-05-12 04:47:17.675269\n",
            "220512-044717\n",
            "File ID: 1WShqWSbcvMOs2Qdehv3S_TlErVuzNCox\n"
          ]
        }
      ]
    },
    {
      "cell_type": "code",
      "source": [
        ""
      ],
      "metadata": {
        "id": "kqK5P9jnZjbq"
      },
      "execution_count": null,
      "outputs": []
    },
    {
      "cell_type": "code",
      "source": [
        ""
      ],
      "metadata": {
        "id": "mJcThVDXZjQX"
      },
      "execution_count": null,
      "outputs": []
    }
  ]
}